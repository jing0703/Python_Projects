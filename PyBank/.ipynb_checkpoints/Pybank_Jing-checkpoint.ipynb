{
 "cells": [
  {
   "cell_type": "code",
   "execution_count": 36,
   "metadata": {},
   "outputs": [
    {
     "name": "stdout",
     "output_type": "stream",
     "text": [
      "Total Months: 127\n",
      "Total Revenue:$ 55945323\n",
      "Average Revenue Change:$ 440514\n",
      "Greatest Increase in Revenue: Sep-15 ($ 1195111 )\n",
      "Greatest Decrease in Revenue: Aug-14 ($ -1172384 )\n"
     ]
    }
   ],
   "source": [
    "import os\n",
    "import csv\n",
    "csvpath1 = os.path.join('raw_data', 'budget_data_1.csv')\n",
    "csvpath2 = os.path.join('raw_data', 'budget_data_2.csv')\n",
    "month = []\n",
    "revenue = []\n",
    "with open(csvpath1, 'r') as csvfile1, open(csvpath2, 'r') as csvfile2: \n",
    "    csvreader1 = csv.reader(csvfile1, delimiter=',')\n",
    "    csvreader2 = csv.reader(csvfile2, delimiter=',')\n",
    "    next(csvreader1)\n",
    "    next(csvreader2)\n",
    "    for row in csvreader1:\n",
    "        month.append(row[0])\n",
    "        revenue.append(int(row[1]))\n",
    "    for row in csvreader2:\n",
    "        month.append(row[0])\n",
    "        revenue.append(int(row[1]))\n",
    "    Total_Months = len(month)\n",
    "    for i in range(Total_Months):\n",
    "        Total_Revenue = sum(revenue)\n",
    "        Average_Revenue_Change = int(Total_Revenue / Total_Months)\n",
    "        Greatest_Increase_in_Revenue = max(revenue) \n",
    "        Greatest_Decrease_in_Revenue = min(revenue)\n",
    "    \n",
    "        if revenue[i] == Greatest_Increase_in_Revenue:\n",
    "            Greatest_Increase = month[i]\n",
    "        elif revenue[i] == Greatest_Decrease_in_Revenue:\n",
    "            Greatest_Decrease = month[i]\n",
    "        \n",
    "print(\"Total Months:\",Total_Months)\n",
    "print(\"Total Revenue:$\",Total_Revenue)\n",
    "print(\"Average Revenue Change:$\",Average_Revenue_Change)\n",
    "print(\"Greatest Increase in Revenue:\",Greatest_Increase,\"($\",Greatest_Increase_in_Revenue,\")\")\n",
    "print(\"Greatest Decrease in Revenue:\",Greatest_Decrease,\"($\",Greatest_Decrease_in_Revenue,\")\")\n",
    "\n",
    "greatest_increase_output =  Greatest_Increase +\"($\" + str(Greatest_Increase_in_Revenue) + \")\"\n",
    "greatest_decrease_output =  Greatest_Decrease + \"($\"+ str(Greatest_Decrease_in_Revenue) + \")\"\n",
    "output_file = os.path.join(\"output.txt\")\n",
    "with open(output_file, \"w\", newline =\"\") as datafile:\n",
    "    writer = csv.writer(datafile,delimiter=' ',quoting=csv.QUOTE_NONE, escapechar='_')\n",
    "    writer.writerow([\"Total Months:\", Total_Months, \"Total Revenue:\",Total_Revenue,\"Average Revenue Change:\", Average_Revenue_Change,\"Greatest Increase in Revenue:\", greatest_increase_output,\"Greatest Decrease in Revenue:\", greatest_decrease_output])"
   ]
  },
  {
   "cell_type": "code",
   "execution_count": 37,
   "metadata": {},
   "outputs": [
    {
     "ename": "TypeError",
     "evalue": "'_csv.reader' object cannot be interpreted as an integer",
     "output_type": "error",
     "traceback": [
      "\u001b[0;31m---------------------------------------------------------------------------\u001b[0m",
      "\u001b[0;31mTypeError\u001b[0m                                 Traceback (most recent call last)",
      "\u001b[0;32m<ipython-input-37-a919507d3a81>\u001b[0m in \u001b[0;36m<module>\u001b[0;34m()\u001b[0m\n\u001b[1;32m      4\u001b[0m     \u001b[0mnext\u001b[0m\u001b[0;34m(\u001b[0m\u001b[0mcsvreader1\u001b[0m\u001b[0;34m)\u001b[0m\u001b[0;34m\u001b[0m\u001b[0m\n\u001b[1;32m      5\u001b[0m     \u001b[0mnext\u001b[0m\u001b[0;34m(\u001b[0m\u001b[0mcsvreader2\u001b[0m\u001b[0;34m)\u001b[0m\u001b[0;34m\u001b[0m\u001b[0m\n\u001b[0;32m----> 6\u001b[0;31m     \u001b[0;32mfor\u001b[0m \u001b[0mx\u001b[0m \u001b[0;32min\u001b[0m \u001b[0mrange\u001b[0m\u001b[0;34m(\u001b[0m\u001b[0mcsvreader1\u001b[0m\u001b[0;34m)\u001b[0m \u001b[0;34m:\u001b[0m\u001b[0;34m\u001b[0m\u001b[0m\n\u001b[0m\u001b[1;32m      7\u001b[0m         \u001b[0mmonths\u001b[0m \u001b[0;34m=\u001b[0m\u001b[0;34m[\u001b[0m\u001b[0mmonth\u001b[0m \u001b[0;32mfor\u001b[0m \u001b[0mmonth\u001b[0m \u001b[0;32min\u001b[0m \u001b[0mrow\u001b[0m\u001b[0;34m[\u001b[0m\u001b[0;36m0\u001b[0m\u001b[0;34m]\u001b[0m\u001b[0;34m]\u001b[0m\u001b[0;34m\u001b[0m\u001b[0m\n\u001b[1;32m      8\u001b[0m         \u001b[0mrevenue\u001b[0m \u001b[0;34m=\u001b[0m\u001b[0;34m[\u001b[0m\u001b[0mrevenue\u001b[0m \u001b[0;32mfor\u001b[0m \u001b[0mrevenue\u001b[0m \u001b[0;32min\u001b[0m \u001b[0mrow\u001b[0m\u001b[0;34m[\u001b[0m\u001b[0;36m1\u001b[0m\u001b[0;34m]\u001b[0m\u001b[0;34m]\u001b[0m\u001b[0;34m\u001b[0m\u001b[0m\n",
      "\u001b[0;31mTypeError\u001b[0m: '_csv.reader' object cannot be interpreted as an integer"
     ]
    }
   ],
   "source": [
    "with open(csvpath1, 'r') as csvfile1, open(csvpath2, 'r') as csvfile2: \n",
    "    csvreader1 = csv.reader(csvfile1, delimiter=',')\n",
    "    csvreader2 = csv.reader(csvfile2, delimiter=',')\n",
    "    next(csvreader1)\n",
    "    next(csvreader2)\n",
    "    for x in csvreader1:\n",
    "        months =[month for month in row[0]]\n",
    "        revenue =[revenue for revenue in row[1]]\n",
    "        print(months,revenue)\n",
    "        print(row[0],int(row[1]))\n",
    "\n",
    "     "
   ]
  },
  {
   "cell_type": "code",
   "execution_count": 264,
   "metadata": {},
   "outputs": [],
   "source": [
    "newdata = []\n",
    "with open(csvpath1, 'r') as csvfile1, open(csvpath2, 'r') as csvfile2: \n",
    "    csvreader1 = csv.DictReader(csvfile1)\n",
    "    csvreader2 = csv.DictReader(csvfile2)\n",
    "    for row in csvreader1:\n",
    "        month = row[\"Date\"]\n",
    "        revenue = row[\"Revenue\"]\n",
    "        newdata.append({\"Time\": month, \"Money\": revenue})"
   ]
  },
  {
   "cell_type": "code",
   "execution_count": 265,
   "metadata": {},
   "outputs": [],
   "source": []
  },
  {
   "cell_type": "code",
   "execution_count": null,
   "metadata": {},
   "outputs": [],
   "source": []
  }
 ],
 "metadata": {
  "kernelspec": {
   "display_name": "Python 3",
   "language": "python",
   "name": "python3"
  },
  "language_info": {
   "codemirror_mode": {
    "name": "ipython",
    "version": 3
   },
   "file_extension": ".py",
   "mimetype": "text/x-python",
   "name": "python",
   "nbconvert_exporter": "python",
   "pygments_lexer": "ipython3",
   "version": "3.6.4"
  }
 },
 "nbformat": 4,
 "nbformat_minor": 2
}
