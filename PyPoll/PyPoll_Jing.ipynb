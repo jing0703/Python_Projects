{
 "cells": [
  {
   "cell_type": "code",
   "execution_count": 103,
   "metadata": {},
   "outputs": [
    {
     "name": "stdout",
     "output_type": "stream",
     "text": [
      "Total Votes: 4324001\n",
      "------------------------\n",
      "Vestal : 9% ( 385440 )\n",
      "Torres : 8% ( 353320 )\n",
      "Seth : 1% ( 40150 )\n",
      "Cordin : 1% ( 24090 )\n",
      "Khan : 51% ( 2218231 )\n",
      "Correy : 16% ( 704200 )\n",
      "Li : 11% ( 492940 )\n",
      "O'Tooley : 2% ( 105630 )\n",
      "------------------------\n",
      "Winner:  Khan\n"
     ]
    }
   ],
   "source": [
    "import os\n",
    "import csv\n",
    "from collections import Counter\n",
    "import operator\n",
    "\n",
    "filepath1 = os.path.join(\"raw_data\", \"election_data_1.csv\")\n",
    "filepath2 = os.path.join(\"raw_data\", \"election_data_2.csv\")\n",
    "all_votes = []\n",
    "with open (filepath1, 'r') as csvfile1, open (filepath2,'r') as csvfile2:\n",
    "    reader1 =csv.reader(csvfile1,delimiter=',')\n",
    "    reader2 =csv.reader(csvfile2,delimiter=',')\n",
    "    next(reader1)\n",
    "    next(reader2)\n",
    "    for row in reader1:\n",
    "        all_votes.append(row[2])\n",
    "    for row in reader2:\n",
    "        all_votes.append(row[2])\n",
    "    Total_Votes = len(all_votes)\n",
    "    print(\"Total Votes:\", Total_Votes)\n",
    "    print(\"------------------------\")\n",
    "    Candidates = dict(Counter(all_votes))\n",
    "    for name, votes in Candidates.items():\n",
    "        percent = \"{0:.0%}\".format(votes/Total_Votes)\n",
    "        Candidates[name] = [Candidates[name],percent]\n",
    "        print(name, \":\",percent,\"(\",votes,\")\")\n",
    "    Winner = max(Candidates.items(), key=operator.itemgetter(1))[0]\n",
    "    print(\"------------------------\")\n",
    "    print(\"Winner: \",Winner)\n",
    "    \n",
    "output_file = os.path.join(\"output.txt\")\n",
    "with open(output_file, \"w\", newline =\"\") as datafile:\n",
    "    writer = csv.writer(datafile,delimiter=' ',lineterminator='\\n',quoting=csv.QUOTE_NONE, escapechar=' ')\n",
    "    #writer.writerow(['Total Votes', Total_Votes])\n",
    "    writer.writerow( [\"Total Votes:\",Total_Votes,str(Candidates),\"Winner:\",Winner] )\n"
   ]
  },
  {
   "cell_type": "code",
   "execution_count": null,
   "metadata": {},
   "outputs": [],
   "source": []
  },
  {
   "cell_type": "code",
   "execution_count": null,
   "metadata": {},
   "outputs": [],
   "source": []
  }
 ],
 "metadata": {
  "kernelspec": {
   "display_name": "Python 3",
   "language": "python",
   "name": "python3"
  },
  "language_info": {
   "codemirror_mode": {
    "name": "ipython",
    "version": 3
   },
   "file_extension": ".py",
   "mimetype": "text/x-python",
   "name": "python",
   "nbconvert_exporter": "python",
   "pygments_lexer": "ipython3",
   "version": "3.6.4"
  }
 },
 "nbformat": 4,
 "nbformat_minor": 2
}
