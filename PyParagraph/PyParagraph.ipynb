{
 "cells": [
  {
   "cell_type": "code",
   "execution_count": 3,
   "metadata": {},
   "outputs": [
    {
     "name": "stdout",
     "output_type": "stream",
     "text": [
      "Paragraph Analysis\n",
      "------------------\n",
      "Approximate Word Count: 414\n",
      "Approximate Sentence Count: 16\n",
      "Average letter count: 5.398550724637682\n",
      "Average Sentence Length: 25.875\n"
     ]
    }
   ],
   "source": [
    "import os\n",
    "import csv\n",
    "import re\n",
    "import collections\n",
    "import string\n",
    "\n",
    "print(\"Paragraph Analysis\\n------------------\")\n",
    "all_rows = []\n",
    "words_num = 0\n",
    "sentence_num = 0\n",
    "csvpath1 = os.path.join('raw_data', 'paragraph_1.txt')\n",
    "csvpath2 = os.path.join('raw_data', 'paragraph_2.txt')\n",
    "with open(csvpath1, 'r') as csvfile1, open(csvpath2, 'r') as csvfile2: \n",
    "    file_contents1 = csvfile1.read()\n",
    "    file_contents2 = csvfile2.read()\n",
    "    all_contents = file_contents1 +file_contents2\n",
    "    words_count = len(all_contents.split( ))\n",
    "    sentence_count = all_contents.count('.')\n",
    "    print(\"Approximate Word Count:\",words_count)\n",
    "    print(\"Approximate Sentence Count:\",sentence_count)\n",
    "    text = all_contents.lower()\n",
    "    alphabet = string.ascii_lowercase\n",
    "    alphabet_set = set(alphabet)\n",
    "    counts = collections.Counter(c for c in text if c in alphabet_set)\n",
    "    for letter in alphabet:\n",
    "        Average_letter_count = sum(counts.values())/ words_count\n",
    "    print(\"Average letter count:\",Average_letter_count )\n",
    "    Sentence_length = words_count / sentence_count\n",
    "    print(\"Average Sentence Length:\",Sentence_length)\n",
    "\n"
   ]
  },
  {
   "cell_type": "code",
   "execution_count": null,
   "metadata": {},
   "outputs": [],
   "source": [
    "Sentence = re.split(\"(?<=[.!?]) +\", text)"
   ]
  }
 ],
 "metadata": {
  "kernelspec": {
   "display_name": "Python 3",
   "language": "python",
   "name": "python3"
  },
  "language_info": {
   "codemirror_mode": {
    "name": "ipython",
    "version": 3
   },
   "file_extension": ".py",
   "mimetype": "text/x-python",
   "name": "python",
   "nbconvert_exporter": "python",
   "pygments_lexer": "ipython3",
   "version": "3.6.4"
  }
 },
 "nbformat": 4,
 "nbformat_minor": 2
}
