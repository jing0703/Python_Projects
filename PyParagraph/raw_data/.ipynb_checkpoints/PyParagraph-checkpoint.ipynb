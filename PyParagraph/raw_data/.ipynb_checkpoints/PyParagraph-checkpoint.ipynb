{
 "cells": [
  {
   "cell_type": "code",
   "execution_count": null,
   "metadata": {},
   "outputs": [],
   "source": [
    "import os\n",
    "import csv\n",
    "\n",
    "Emp_ID =[]\n",
    "\n",
    "csvpath1 = os.path.join('raw_data', 'employee_data1.csv')\n",
    "csvpath2 = os.path.join('raw_data', 'employee_data2.csv')\n",
    "with open(csvpath1, 'r') as csvfile1, open(csvpath2, 'r') as csvfile2: \n",
    "    csvreader1 = csv.reader(csvfile1, delimiter=',')\n",
    "    csvreader2 = csv.reader(csvfile2, delimiter=',')\n",
    "    next(csvreader1)\n",
    "    next(csvreader2)\n",
    "    for row in csvreader1:"
   ]
  }
 ],
 "metadata": {
  "kernelspec": {
   "display_name": "Python 3",
   "language": "python",
   "name": "python3"
  },
  "language_info": {
   "codemirror_mode": {
    "name": "ipython",
    "version": 3
   },
   "file_extension": ".py",
   "mimetype": "text/x-python",
   "name": "python",
   "nbconvert_exporter": "python",
   "pygments_lexer": "ipython3",
   "version": "3.6.4"
  }
 },
 "nbformat": 4,
 "nbformat_minor": 2
}
